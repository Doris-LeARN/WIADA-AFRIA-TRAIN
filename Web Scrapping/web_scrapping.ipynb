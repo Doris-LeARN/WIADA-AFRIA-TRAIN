{
 "cells": [
  {
   "cell_type": "code",
   "execution_count": 2,
   "id": "12d6d87e",
   "metadata": {},
   "outputs": [],
   "source": [
    "from bs4 import BeautifulSoup\n",
    "import requests\n",
    "import pandas as pd\n",
    "import numpy as np"
   ]
  },
  {
   "cell_type": "code",
   "execution_count": 8,
   "id": "3dcb6814",
   "metadata": {},
   "outputs": [],
   "source": [
    "url = \"https://fr.trustpilot.com/review/data-bird.co\""
   ]
  },
  {
   "cell_type": "code",
   "execution_count": 9,
   "id": "0fec9be6",
   "metadata": {},
   "outputs": [],
   "source": [
    "page_source = requests.get(url)"
   ]
  },
  {
   "cell_type": "code",
   "execution_count": 10,
   "id": "40b1f747",
   "metadata": {},
   "outputs": [],
   "source": [
    "soup = BeautifulSoup(page_source.text, \"html.parser\")"
   ]
  },
  {
   "cell_type": "code",
   "execution_count": null,
   "id": "987d95f5",
   "metadata": {},
   "outputs": [],
   "source": [
    "elts = soup.fill_all()"
   ]
  }
 ],
 "metadata": {
  "kernelspec": {
   "display_name": "Python 3 (ipykernel)",
   "language": "python",
   "name": "python3"
  },
  "language_info": {
   "codemirror_mode": {
    "name": "ipython",
    "version": 3
   },
   "file_extension": ".py",
   "mimetype": "text/x-python",
   "name": "python",
   "nbconvert_exporter": "python",
   "pygments_lexer": "ipython3",
   "version": "3.11.5"
  }
 },
 "nbformat": 4,
 "nbformat_minor": 5
}
